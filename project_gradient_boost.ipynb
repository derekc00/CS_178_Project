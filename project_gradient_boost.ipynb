{
 "cells": [
  {
   "cell_type": "code",
   "execution_count": 88,
   "metadata": {
    "collapsed": true
   },
   "outputs": [],
   "source": [
    "# Import all required libraries\n",
    "from __future__ import division # For python 2.*\n",
    "\n",
    "import numpy as np\n",
    "import matplotlib.pyplot as plt\n",
    "import mltools as ml\n",
    "\n",
    "np.random.seed(0)\n",
    "%matplotlib inline\n",
    "\n",
    "X = np.genfromtxt('data/X_train.txt', delimiter=None) \n",
    "Y = np.genfromtxt('data/Y_train.txt', delimiter=None) \n",
    "X,Y = ml.shuffleData(X,Y)\n",
    "Xtr, Xva, Ytr, Yva = ml.splitData(X,Y,0.75)\n",
    "Xte = np.genfromtxt('data/X_test.txt', delimiter=None)"
   ]
  },
  {
   "cell_type": "code",
   "execution_count": 50,
   "metadata": {},
   "outputs": [
    {
     "name": "stdout",
     "output_type": "stream",
     "text": [
      "[ 1.  1.  1.]\n",
      "[[ 0.  1.]\n",
      " [-1.  2.]\n",
      " [-2.  3.]]\n"
     ]
    }
   ],
   "source": [
    "a= [1,2,3]\n",
    "b = np.ones(len(a))\n",
    "print(b)\n",
    "print(np.vstack((b-a, a)).T)\n"
   ]
  },
  {
   "cell_type": "code",
   "execution_count": 83,
   "metadata": {},
   "outputs": [],
   "source": [
    "boosts = []\n",
    "n_boosts = 5000\n",
    "\n",
    "Ytr_ = np.copy(Ytr)  # We're going to copy the data becuase each booster iteration we're going to mess with it.\n",
    "#print(Ytr_.shape)\n",
    "for i in range(n_boosts):\n",
    "    tree = ml.dtree.treeRegress(Xtr, Ytr_, maxDepth=2)\n",
    "    \"\"\"you can substitute it with linear regression\"\"\"\n",
    "    boosts.append(tree)\n",
    "    # Now \"learning\" from out mistakes.\n",
    "    Ytr_ -= tree.predict(Xtr)\n",
    "    #print(Ytr_)"
   ]
  },
  {
   "cell_type": "code",
   "execution_count": 84,
   "metadata": {},
   "outputs": [],
   "source": [
    "class Gradient_Boosted_Tree(ml.base.classifier):\n",
    "    def __init__(self, boosts):\n",
    "        \"\"\"Constructs a Gradient_boosted_Tree class with a set of boosts. \"\"\"\n",
    "        self.boosts = boosts\n",
    "    \n",
    "    def predictSoft(self, X):\n",
    "        \"\"\"Predicts regression values using boosting. \"\"\"\n",
    "        n_boosts = len(self.boosts)\n",
    "        preds = [self.boosts[i].predict(X) for i in range(n_boosts)]\n",
    "        #print(preds)\n",
    "        p1 = np.sum(preds, axis=0)\n",
    "        p0 = np.ones(len(p1)) - p1\n",
    "        pre = np.vstack((p0, p1)).T\n",
    "        return pre\n"
   ]
  },
  {
   "cell_type": "code",
   "execution_count": 85,
   "metadata": {},
   "outputs": [
    {
     "name": "stdout",
     "output_type": "stream",
     "text": [
      "[[ 0.26497594  0.73502406]\n",
      " [ 0.41760941  0.58239059]\n",
      " [-0.00420907  1.00420907]\n",
      " ..., \n",
      " [ 0.70273874  0.29726126]\n",
      " [ 1.02929083 -0.02929083]\n",
      " [ 0.8272334   0.1727666 ]]\n",
      "      Train AUC: 0.8726\n",
      " Validation AUC: 0.7699\n"
     ]
    }
   ],
   "source": [
    "gbt = Gradient_Boosted_Tree(boosts)\n",
    "gbt.classes = np.unique(Y)\n",
    "\n",
    "probs = gbt.predictSoft(Xte)\n",
    "print(probs)\n",
    "print(\"{0:>15}: {1:.4f}\".format('Train AUC', gbt.auc(Xtr, Ytr)))\n",
    "print(\"{0:>15}: {1:.4f}\".format('Validation AUC', gbt.auc(Xva, Yva)))"
   ]
  },
  {
   "cell_type": "code",
   "execution_count": 92,
   "metadata": {},
   "outputs": [
    {
     "ename": "TypeError",
     "evalue": "'int' object is not iterable",
     "output_type": "error",
     "traceback": [
      "\u001b[0;31m---------------------------------------------------------------------------\u001b[0m",
      "\u001b[0;31mTypeError\u001b[0m                                 Traceback (most recent call last)",
      "\u001b[0;32m<ipython-input-92-57aedc471fbc>\u001b[0m in \u001b[0;36m<module>\u001b[0;34m()\u001b[0m\n\u001b[1;32m      1\u001b[0m \u001b[0mY1test\u001b[0m \u001b[0;34m=\u001b[0m \u001b[0mgbt\u001b[0m\u001b[0;34m.\u001b[0m\u001b[0mpredictSoft\u001b[0m\u001b[0;34m(\u001b[0m\u001b[0mXte\u001b[0m\u001b[0;34m)\u001b[0m\u001b[0;34m[\u001b[0m\u001b[0;34m:\u001b[0m\u001b[0;34m,\u001b[0m\u001b[0;36m1\u001b[0m\u001b[0;34m]\u001b[0m\u001b[0;34m\u001b[0m\u001b[0m\n\u001b[0;32m----> 2\u001b[0;31m \u001b[0;32mfor\u001b[0m \u001b[0mi\u001b[0m \u001b[0;32min\u001b[0m \u001b[0mlen\u001b[0m\u001b[0;34m(\u001b[0m\u001b[0mY1test\u001b[0m\u001b[0;34m)\u001b[0m\u001b[0;34m:\u001b[0m\u001b[0;34m\u001b[0m\u001b[0m\n\u001b[0m\u001b[1;32m      3\u001b[0m     \u001b[0;32mif\u001b[0m \u001b[0mY1test\u001b[0m\u001b[0;34m[\u001b[0m\u001b[0mi\u001b[0m\u001b[0;34m]\u001b[0m \u001b[0;34m<\u001b[0m \u001b[0;36m0\u001b[0m\u001b[0;34m:\u001b[0m\u001b[0;34m\u001b[0m\u001b[0m\n\u001b[1;32m      4\u001b[0m         \u001b[0mY1test\u001b[0m\u001b[0;34m[\u001b[0m\u001b[0mi\u001b[0m\u001b[0;34m]\u001b[0m \u001b[0;34m=\u001b[0m \u001b[0;36m0\u001b[0m\u001b[0;34m\u001b[0m\u001b[0m\n\u001b[1;32m      5\u001b[0m     \u001b[0;32mif\u001b[0m \u001b[0mY1test\u001b[0m\u001b[0;34m[\u001b[0m\u001b[0mi\u001b[0m\u001b[0;34m]\u001b[0m \u001b[0;34m>\u001b[0m \u001b[0;36m1\u001b[0m\u001b[0;34m:\u001b[0m\u001b[0;34m\u001b[0m\u001b[0m\n",
      "\u001b[0;31mTypeError\u001b[0m: 'int' object is not iterable"
     ]
    }
   ],
   "source": [
    "Y1test = gbt.predictSoft(Xte)[:,1]\n"
   ]
  },
  {
   "cell_type": "code",
   "execution_count": 93,
   "metadata": {
    "collapsed": true
   },
   "outputs": [],
   "source": [
    "for i in range(len(Y1test)):\n",
    "    if Y1test[i] < 0:\n",
    "        Y1test[i] = 0\n",
    "    if Y1test[i] > 1:\n",
    "        Y1test[i] = 1\n",
    "Yte = np.vstack((np.arange(Xte.shape[0]), Y1test)).T\n",
    "# Output a file with two columns, a row ID and a confidence in class 1:\n",
    "np.savetxt('Y_submit2.txt',Yte,'%d, %.2f',header='ID,Prob1',comments='',delimiter=',')"
   ]
  },
  {
   "cell_type": "code",
   "execution_count": null,
   "metadata": {
    "collapsed": true
   },
   "outputs": [],
   "source": []
  }
 ],
 "metadata": {
  "kernelspec": {
   "display_name": "Python 2",
   "language": "python",
   "name": "python2"
  },
  "language_info": {
   "codemirror_mode": {
    "name": "ipython",
    "version": 2
   },
   "file_extension": ".py",
   "mimetype": "text/x-python",
   "name": "python",
   "nbconvert_exporter": "python",
   "pygments_lexer": "ipython2",
   "version": "2.7.14"
  }
 },
 "nbformat": 4,
 "nbformat_minor": 2
}
