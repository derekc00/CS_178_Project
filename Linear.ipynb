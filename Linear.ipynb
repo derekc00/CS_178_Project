{
 "cells": [
  {
   "cell_type": "markdown",
   "metadata": {},
   "source": [
    "# Kaggle Project\n",
    "## Linear Model"
   ]
  },
  {
   "cell_type": "code",
   "execution_count": 1,
   "metadata": {
    "collapsed": true
   },
   "outputs": [],
   "source": [
    "# Import required libraries\n",
    "from __future__ import division\n",
    "import numpy as np\n",
    "import mltools as ml\n",
    "import matplotlib.pyplot as plt\n",
    "\n",
    "np.random.seed(0)\n",
    "%matplotlib inline"
   ]
  },
  {
   "cell_type": "code",
   "execution_count": 2,
   "metadata": {
    "collapsed": true
   },
   "outputs": [],
   "source": [
    "path_to_file = \"/Users/justinchung/Documents/School/CS178/HW4/data\"\n",
    "\n",
    "# Training data\n",
    "X = np.genfromtxt(path_to_file + '/X_train.txt', delimiter=None)\n",
    "Y = np.genfromtxt(path_to_file + '/Y_train.txt', delimiter=None)\n",
    "X,Y = ml.shuffleData(X,Y)\n",
    "\n",
    "Xtr,Xva,Ytr,Yva = ml.splitData(X,Y); # split data into 80/20 train/validation\n",
    "Xtr, Ytr = ml.shuffleData(Xtr, Ytr)\n",
    "#Xtr, Ytr = Xtr[:8000], Ytr[:8000]\n",
    "\n",
    "# Test data\n",
    "Xte = np.genfromtxt(path_to_file + '/X_test.txt', delimiter=None)"
   ]
  },
  {
   "cell_type": "code",
   "execution_count": 3,
   "metadata": {
    "collapsed": true
   },
   "outputs": [],
   "source": [
    "# Rescale training and test data\n",
    "Xtr,params = ml.transforms.rescale(Xtr)\n",
    "Xva,_ = ml.transforms.rescale(Xva, params)"
   ]
  },
  {
   "cell_type": "code",
   "execution_count": 4,
   "metadata": {
    "collapsed": true
   },
   "outputs": [],
   "source": [
    "XtrP = ml.transforms.fpoly(Xtr, 2, bias=False)\n",
    "XvaP = ml.transforms.fpoly(Xva, 2, bias=False)\n",
    "\n",
    "XtrP,paramsP = ml.transforms.rescale(XtrP)\n",
    "XvaP,_ = ml.transforms.rescale(XvaP, paramsP)\n",
    "\n",
    "XteP = ml.transforms.fpoly(Xte, 2, bias=False)\n",
    "XteP,_ = ml.transforms.rescale(XteP)"
   ]
  },
  {
   "cell_type": "code",
   "execution_count": 5,
   "metadata": {},
   "outputs": [
    {
     "name": "stdout",
     "output_type": "stream",
     "text": [
      "(160000, 119)\n",
      "(40000, 119)\n",
      "(200000, 119)\n"
     ]
    }
   ],
   "source": [
    "print(XtrP.shape)\n",
    "print(XvaP.shape)\n",
    "print(XteP.shape)"
   ]
  },
  {
   "cell_type": "code",
   "execution_count": 6,
   "metadata": {},
   "outputs": [
    {
     "name": "stdout",
     "output_type": "stream",
     "text": [
      "[[ 0.65037406  0.34962594]\n",
      " [ 0.5861603   0.4138397 ]\n",
      " [ 0.64398876  0.35601124]\n",
      " ..., \n",
      " [ 0.68422899  0.31577101]\n",
      " [ 0.64840227  0.35159773]\n",
      " [ 0.66142157  0.33857843]]\n",
      "0.658588582897\n",
      "0.654150604309\n"
     ]
    }
   ],
   "source": [
    "learner = ml.linearC.linearClassify()\n",
    "learner.train(XtrP, Ytr, reg=0.1, initStep=0.01, stopTol=1e-6, stopIter=100)\n",
    "\n",
    "probs = learner.predictSoft(XteP)\n",
    "print(probs)\n",
    "print(\"Train AUC: \" + str(learner.auc(XtrP, Ytr)))\n",
    "print(\"Validation AUC: \" + str(learner.auc(XvaP, Yva)))"
   ]
  },
  {
   "cell_type": "code",
   "execution_count": 11,
   "metadata": {},
   "outputs": [],
   "source": [
    "Yte = np.vstack((np.arange(XteP.shape[0]), learner.predictSoft(XteP)[:,1])).T\n",
    "\n",
    "# Output a file with two columns, a row ID and a confidence in class 1:\n",
    "np.savetxt('Y_submit.txt',Yte,'%d, %.2f',header='ID,Prob1',comments='',delimiter=',')"
   ]
  },
  {
   "cell_type": "code",
   "execution_count": 34,
   "metadata": {},
   "outputs": [
    {
     "name": "stdout",
     "output_type": "stream",
     "text": [
      "5\n",
      "Train AUC: 0.789297171955\n",
      "Validation AUC: 0.691640738819\n"
     ]
    }
   ],
   "source": [
    "from sklearn.ensemble import AdaBoostClassifier\n",
    "from sklearn import metrics\n",
    "from sklearn.tree import DecisionTreeClassifier\n",
    "\n",
    "depths = [5]\n",
    "# 5 - 8\n",
    "for depth in depths:\n",
    "    dtree = DecisionTreeClassifier(max_depth=depth)\n",
    "\n",
    "    abc = AdaBoostClassifier(dtree, n_estimators=300)\n",
    "    abc.fit(Xtr, Ytr)\n",
    "\n",
    "    predictions_Xtr = abc.predict(Xtr)\n",
    "    predictions_Xva = abc.predict(Xva)\n",
    "    \n",
    "    probs_Xva = abc.staged_predict_proba(Xva)\n",
    "    probs_Xte = abc.predict_proba(Xte)\n",
    "    print(depth)\n",
    "    print(\"Train AUC: \" + str(metrics.roc_auc_score(predictions_Xtr, Ytr)))\n",
    "    print(\"Validation AUC: \" + str(metrics.roc_auc_score(predictions_Xva, Yva)))"
   ]
  },
  {
   "cell_type": "code",
   "execution_count": 29,
   "metadata": {},
   "outputs": [],
   "source": [
    "probs_Xva = abc.staged_predict_proba(Xva)\n",
    "probs_Xte = abc.predict_proba(Xte)"
   ]
  },
  {
   "cell_type": "code",
   "execution_count": 30,
   "metadata": {},
   "outputs": [
    {
     "name": "stdout",
     "output_type": "stream",
     "text": [
      "Train AUC: 0.663693108006\n",
      "Validation AUC: 0.659220188078\n"
     ]
    }
   ],
   "source": [
    "print(\"Train AUC: \" + str(metrics.roc_auc_score(predictions_Xtr, Ytr)))\n",
    "print(\"Validation AUC: \" + str(metrics.roc_auc_score(predictions_Xva, Yva)))"
   ]
  },
  {
   "cell_type": "code",
   "execution_count": null,
   "metadata": {
    "collapsed": true
   },
   "outputs": [],
   "source": []
  }
 ],
 "metadata": {
  "kernelspec": {
   "display_name": "Python 2",
   "language": "python",
   "name": "python2"
  },
  "language_info": {
   "codemirror_mode": {
    "name": "ipython",
    "version": 2
   },
   "file_extension": ".py",
   "mimetype": "text/x-python",
   "name": "python",
   "nbconvert_exporter": "python",
   "pygments_lexer": "ipython2",
   "version": "2.7.14"
  }
 },
 "nbformat": 4,
 "nbformat_minor": 2
}
