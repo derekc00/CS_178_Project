{
 "cells": [
  {
   "cell_type": "markdown",
   "metadata": {},
   "source": [
    "# Kaggle Project\n",
    "## Linear Model"
   ]
  },
  {
   "cell_type": "code",
   "execution_count": 1,
   "metadata": {
    "collapsed": true
   },
   "outputs": [],
   "source": [
    "# Import required libraries\n",
    "from __future__ import division\n",
    "import numpy as np\n",
    "import mltools as ml\n",
    "import matplotlib.pyplot as plt\n",
    "\n",
    "np.random.seed(0)\n",
    "%matplotlib inline"
   ]
  },
  {
   "cell_type": "code",
   "execution_count": 2,
   "metadata": {
    "collapsed": true
   },
   "outputs": [],
   "source": [
    "path_to_file = \"/Users/justinchung/Documents/School/CS178/HW4/data\"\n",
    "\n",
    "# Training data\n",
    "X = np.genfromtxt(path_to_file + '/X_train.txt', delimiter=None)\n",
    "Y = np.genfromtxt(path_to_file + '/Y_train.txt', delimiter=None)\n",
    "X,Y = ml.shuffleData(X,Y)\n",
    "\n",
    "Xtr,Xva,Ytr,Yva = ml.splitData(X,Y); # split data into 80/20 train/validation\n",
    "#Xtr, Ytr = ml.shuffleData(Xtr, Ytr)\n",
    "Xtr, Ytr = Xtr[:4000], Ytr[:4000]\n",
    "\n",
    "# Test data\n",
    "Xte = np.genfromtxt(path_to_file + '/X_test.txt', delimiter=None)"
   ]
  },
  {
   "cell_type": "code",
   "execution_count": 3,
   "metadata": {
    "collapsed": true
   },
   "outputs": [],
   "source": [
    "# Rescale training and test data\n",
    "Xtr,args = ml.transforms.rescale(Xtr)\n",
    "Xte,_ = ml.transforms.rescale(Xtr, args)"
   ]
  },
  {
   "cell_type": "code",
   "execution_count": 7,
   "metadata": {},
   "outputs": [
    {
     "name": "stdout",
     "output_type": "stream",
     "text": [
      "[[ nan  nan]\n",
      " [ nan  nan]\n",
      " [ nan  nan]\n",
      " ..., \n",
      " [ nan  nan]\n",
      " [ nan  nan]\n",
      " [ nan  nan]]\n",
      "0.509360192372\n"
     ]
    }
   ],
   "source": [
    "XtrP = ml.transforms.fpoly(Xtr, 2, bias=False)\n",
    "\n",
    "XtrP,argsP = ml.transforms.rescale(XtrP)\n",
    "XteP,_ = ml.transforms.rescale(XtrP, argsP)\n",
    "    \n",
    "learner = ml.linearC.linearClassify()\n",
    "learner.train(XtrP, Ytr, reg=0.1, initStep=1.0, stopTol=1e-4, stopIter=100)\n",
    "    \n",
    "probs = learner.predictSoft(XteP)\n",
    "print(probs)\n",
    "print(str(learner.auc(XtrP, Ytr)))"
   ]
  },
  {
   "cell_type": "code",
   "execution_count": null,
   "metadata": {},
   "outputs": [],
   "source": [
    "probs = learner.predictSoft(Xte)\n",
    "print(probs)\n",
    "\n",
    "print(learner.auc(Xtr, Ytr))"
   ]
  },
  {
   "cell_type": "code",
   "execution_count": null,
   "metadata": {
    "collapsed": true
   },
   "outputs": [],
   "source": []
  }
 ],
 "metadata": {
  "kernelspec": {
   "display_name": "Python 2",
   "language": "python",
   "name": "python2"
  },
  "language_info": {
   "codemirror_mode": {
    "name": "ipython",
    "version": 2
   },
   "file_extension": ".py",
   "mimetype": "text/x-python",
   "name": "python",
   "nbconvert_exporter": "python",
   "pygments_lexer": "ipython2",
   "version": "2.7.14"
  }
 },
 "nbformat": 4,
 "nbformat_minor": 2
}
